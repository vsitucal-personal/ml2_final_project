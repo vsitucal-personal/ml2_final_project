{
 "cells": [
  {
   "cell_type": "code",
   "execution_count": 1,
   "id": "0c6c1bed-058d-4478-bf0d-da36ce282608",
   "metadata": {
    "execution": {
     "iopub.execute_input": "2024-06-07T18:16:47.297705Z",
     "iopub.status.busy": "2024-06-07T18:16:47.297502Z",
     "iopub.status.idle": "2024-06-07T18:16:47.309612Z",
     "shell.execute_reply": "2024-06-07T18:16:47.308829Z",
     "shell.execute_reply.started": "2024-06-07T18:16:47.297684Z"
    }
   },
   "outputs": [
    {
     "data": {
      "text/html": [
       "<script src=\"require.js\"></script>\n"
      ],
      "text/plain": [
       "<IPython.core.display.HTML object>"
      ]
     },
     "metadata": {},
     "output_type": "display_data"
    }
   ],
   "source": [
    "%%HTML\n",
    "<script src=\"require.js\"></script>"
   ]
  },
  {
   "cell_type": "code",
   "execution_count": 2,
   "id": "8bd7e875-ea22-4c6e-bd61-7de779cbfd54",
   "metadata": {
    "execution": {
     "iopub.execute_input": "2024-06-07T18:16:47.310909Z",
     "iopub.status.busy": "2024-06-07T18:16:47.310447Z",
     "iopub.status.idle": "2024-06-07T18:16:47.314988Z",
     "shell.execute_reply": "2024-06-07T18:16:47.314204Z",
     "shell.execute_reply.started": "2024-06-07T18:16:47.310886Z"
    }
   },
   "outputs": [],
   "source": [
    "import warnings\n",
    "\n",
    "warnings.filterwarnings(\"ignore\")\n",
    "warnings.filterwarnings(\"ignore\", category=DeprecationWarning)"
   ]
  },
  {
   "cell_type": "code",
   "execution_count": 3,
   "id": "061ca7da-e365-4334-ade4-a29700b23507",
   "metadata": {
    "execution": {
     "iopub.execute_input": "2024-06-07T18:16:47.316048Z",
     "iopub.status.busy": "2024-06-07T18:16:47.315737Z",
     "iopub.status.idle": "2024-06-07T18:16:47.358000Z",
     "shell.execute_reply": "2024-06-07T18:16:47.356811Z",
     "shell.execute_reply.started": "2024-06-07T18:16:47.316020Z"
    }
   },
   "outputs": [
    {
     "data": {
      "text/html": [
       "<script src=\"https://cdnjs.cloudflare.com/ajax/libs/jquery/2.0.3/jquery.min.js \"></script><script>\n",
       "code_show=true; \n",
       "function code_toggle() {\n",
       "if (code_show){\n",
       "$('div.jp-CodeCell > div.jp-Cell-inputWrapper').hide();\n",
       "} else {\n",
       "$('div.jp-CodeCell > div.jp-Cell-inputWrapper').show();\n",
       "}\n",
       "code_show = !code_show\n",
       "} \n",
       "$( document ).ready(code_toggle);</script><form action=\"javascript:code_toggle()\"><input type=\"submit\" value=\"Click here to toggle on/off the raw code.\"></form>\n"
      ],
      "text/plain": [
       "<IPython.core.display.HTML object>"
      ]
     },
     "execution_count": 3,
     "metadata": {},
     "output_type": "execute_result"
    }
   ],
   "source": [
    "from IPython.display import HTML\n",
    "HTML('''<script src=\"https://cdnjs.cloudflare.com/ajax/libs/jquery/2.0.3/jquery.min.js \"></script><script>\n",
    "code_show=true; \n",
    "function code_toggle() {\n",
    "if (code_show){\n",
    "$('div.jp-CodeCell > div.jp-Cell-inputWrapper').hide();\n",
    "} else {\n",
    "$('div.jp-CodeCell > div.jp-Cell-inputWrapper').show();\n",
    "}\n",
    "code_show = !code_show\n",
    "} \n",
    "$( document ).ready(code_toggle);</script><form action=\"javascript:code_toggle()\"><input type=\"submit\" value=\"Click here to toggle on/off the raw code.\"></form>\n",
    "''')"
   ]
  },
  {
   "cell_type": "markdown",
   "id": "82a9d69d-3ceb-42f2-b829-b7aefb5f0649",
   "metadata": {
    "execution": {
     "iopub.execute_input": "2024-06-04T16:43:05.224456Z",
     "iopub.status.busy": "2024-06-04T16:43:05.223275Z",
     "iopub.status.idle": "2024-06-04T16:43:05.234049Z",
     "shell.execute_reply": "2024-06-04T16:43:05.232543Z",
     "shell.execute_reply.started": "2024-06-04T16:43:05.224396Z"
    }
   },
   "source": [
    "<strong>MSDS 2025A: Machine Learning 2</strong><br>\n",
    "<span style=\"font-size: 14px; font-weight: bold; line-height: 1.5\">`Final Project` </span>"
   ]
  },
  {
   "cell_type": "markdown",
   "id": "913e1391-8461-4631-aed6-b17410f72246",
   "metadata": {},
   "source": [
    "<center><img src=\"0_Title.png\" width='100%'/>"
   ]
  },
  {
   "cell_type": "markdown",
   "id": "9be978d3-7156-43ce-9b4c-28d3f023d3a2",
   "metadata": {},
   "source": [
    "## <span style=\"font-family:verdana; text-align: center;  color: #E57D00; font-weight: bold\">Abstract </span>"
   ]
  },
  {
   "cell_type": "markdown",
   "id": "3d6c21f0-c551-491b-8e02-e4d532319040",
   "metadata": {},
   "source": [
    "## <span style=\"font-family:verdana; text-align: center;  color: #E57D00; font-weight: bold\">Introduction </span>"
   ]
  },
  {
   "cell_type": "markdown",
   "id": "2d2bd30a-ea8a-46f5-a504-26c96153fe68",
   "metadata": {},
   "source": [
    "<p>Option are derivative contracts that give the holder the right but not the obligation to buy or sell an underlying asset or security. This is at a predetermined price before the contract expiry. Buying (call) and selling (put) has a price which is called the option's premium. Traditional models such as Black-Scholes and Binomial models can be used to price the options.<sup>1</sup> Black-Scholes is one of the most widely used models tha uses the following input variables - strike price, current price, time to expiration, risk-free rate, and volatility. It is a mathematical equation that estimates the theoretical value of derivatives based on other investment instruments, taking into account the impact of time and other risk factors. Although it is a stable framework, the model relies on several assumptions that may materialize into the actual price of the security.<sup>2</sup> </p>\n",
    "\n",
    "<p><strong>What are the advantages of options?</strong> One of the advantages of using options is that it limits your downside. If the price of the options falls dramatically, your loss is confined to the initial premium paid for the option. Options can also be used in dynamic hedging where you can offset losses from an option by owning some stock. Both the option and the underlying stock can reduce the risk in your portfolio due to price movements<sup>3</sup>. Another advantage is that it provides leverage. Options allows you to control a larger amount of the underlying asset with a relatively low investment, which is the option price.<sup>4</sup></p>\n",
    "\n",
    "<p>The use of options in investment strategies can offer a range of advantages to investors. Machine learning can bring a more adaptive and precise method for valuing options, in contrast to traditional models. By integrating machine learning into the process of options pricing, it becomes possible to harness a more sophisticated and nuanced tool. This, in turn, can contribute significantly to improved decision-making and the development of more effective investment strategies.</p>\n",
    "\n"
   ]
  },
  {
   "cell_type": "markdown",
   "id": "0263e351-11be-42fe-8153-5e8aec8f754f",
   "metadata": {},
   "source": [
    "## <span style=\"font-family:verdana; text-align: center;  color: #E57D00; font-weight: bold\">Problem Statement </span>"
   ]
  },
  {
   "cell_type": "markdown",
   "id": "7aacf1f1-545a-4230-8d3d-bc562dc0ea10",
   "metadata": {},
   "source": [
    "<p>The pricing of options is a complex task that traditionally relies on models such as the Black-Scholes and Binomial models. These models, while widely used, have limitations in capturing market dynamics and are based on assumptions that may not hold true in real-world scenarios. As financial markets become more complex and the availability of extensive data increases, there is a growing need for more sophisticated approaches.</p>\n",
    "\n",
    "<p><strong>1. How can Machine Learning be used to uncover hidden patterns and relationships that traditional models might miss?</strong></p>\n",
    "\n",
    "<p><strong>2. What are the ways we can help investors gain deeper insight into factors influencing options pricing and how can they capitalize on this knowledge to gain a competitive advantage?</strong></p>\n"
   ]
  },
  {
   "cell_type": "markdown",
   "id": "fc7e6f09-b563-4323-8158-1bf424ebe034",
   "metadata": {},
   "source": [
    "## <span style=\"font-family:verdana; text-align: center;  color: #E57D00; font-weight: bold\">Key Motivation</span>"
   ]
  },
  {
   "cell_type": "markdown",
   "id": "f7075fc8-9e5e-47b1-881f-1f2da0580b6a",
   "metadata": {},
   "source": [
    "## <span style=\"font-family:verdana; text-align: center;  color: #E57D00; font-weight: bold\">Scope and Limitations</span>"
   ]
  },
  {
   "cell_type": "markdown",
   "id": "ef52f014-9075-431d-98d2-6f38f20ed1fd",
   "metadata": {},
   "source": [
    "We are predicting "
   ]
  },
  {
   "cell_type": "markdown",
   "id": "a562d59c-7e00-45ae-b905-118fc84bf883",
   "metadata": {},
   "source": [
    "<a id='Dataset'></a> \n",
    "## <span style=\"font-family:verdana; text-align: center;  color: #E57D00;; font-weight: bold\">About the Data</span>"
   ]
  },
  {
   "cell_type": "markdown",
   "id": "45453892-1b30-4ea6-b5e5-771f4152d3a8",
   "metadata": {},
   "source": [
    "\n",
    "<table border=\"1\">\n",
    "    <thead>\n",
    "        <tr>\n",
    "            <th>Type</th>\n",
    "            <th>Variable</th>\n",
    "            <th>Definition</th>\n",
    "        </tr>\n",
    "    </thead>\n",
    "    <tbody>\n",
    "       <tr>\n",
    "            <td>Categorical</td>\n",
    "            <td><b>Contract Symbol</b></td>\n",
    "            <td>Contains the Root symbol (ticker symbol) + Expiration Year (yy) + Expiration Month (mm) + Expiration Day (dd) + Call/Put Indicator (C or P) + Strike Price</td>\n",
    "        </tr>\n",
    "        <tr>\n",
    "            <td>Datetime</td>\n",
    "            <td><b>Last Trade Date</b></td>\n",
    "            <td>Last trade date of the option</td>\n",
    "        </tr>\n",
    "        <tr>\n",
    "            <td>Numerical</td>\n",
    "            <td><b>Strike</b></td>\n",
    "            <td>The option's strike price is the price at which the security can be bought (call) or sold (put)</td>\n",
    "        </tr>\n",
    "        <tr>\n",
    "            <td>Numerical</td>\n",
    "            <td><b>Last Price</b></td>\n",
    "            <td>The last price at which the option was traded</td>\n",
    "        </tr>\n",
    "        <tr>\n",
    "            <td>Numerical</td>\n",
    "            <td><b>Bid</b></td>\n",
    "            <td>The price at which the buyers are willing to trade</td>\n",
    "        </tr>\n",
    "        <tr>\n",
    "            <td>Numerical</td>\n",
    "            <td><b>Ask</b></td>\n",
    "            <td>The price at which the sellers are willing to trade</td>\n",
    "        </tr>\n",
    "        <tr>\n",
    "            <td>Numerical</td>\n",
    "            <td><b>Change</b></td>\n",
    "            <td>The amount of change in the price of the option</td>\n",
    "        </tr>\n",
    "        <tr>\n",
    "            <td>Numerical</td>\n",
    "            <td><b>Percent Change</b></td>\n",
    "            <td>Percent change in the price of the option</td>\n",
    "        </tr>\n",
    "        <tr>\n",
    "            <td>Numerical</td>\n",
    "            <td><b>Volume</b></td>\n",
    "            <td>The number of options bought and sold</td>\n",
    "        </tr>\n",
    "        <tr>\n",
    "            <td>Numerical</</td>\n",
    "            <td><b>Open Interest</b></td>\n",
    "            <td>The number of options that exist for a stock and include options that were opened in days prior</td>\n",
    "        </tr>\n",
    "        <tr>\n",
    "            <td>Numerical</td>\n",
    "            <td><b>Implied Volatility</b></td>\n",
    "            <td>The likelihood of future changes in a given security's price</td>\n",
    "        </tr>\n",
    "        <tr>\n",
    "            <td>Categorical</td>\n",
    "            <td><b>In the Money</b></td>\n",
    "            <td>An option that presents a profit opportunity due to the relationship between the strike price and the prevailing market price of the underlying asset</td>\n",
    "        </tr>\n",
    "        <tr>\n",
    "            <td>Categorical</td>\n",
    "            <td><b>Contract Size</b></td>\n",
    "            <td>The quantity of the underlying value that corresponds to one option contract</td>\n",
    "        </tr>\n",
    "        <tr>\n",
    "            <td>Categorical</td>\n",
    "            <td><b>Currency</b></td>\n",
    "            <td>The currency in which the option is denominated</td>\n",
    "        </tr>\n",
    "        <tr>\n",
    "            <td>Categorical</td>\n",
    "            <td><b>Type</b></td>\n",
    "            <td>Call/Put</td>\n",
    "        </tr>\n",
    "        <tr>\n",
    "            <td>Datetime</td>\n",
    "            <td><b>Expiry</b></td>\n",
    "            <td>The last day in which the option can trade or be exercised, before it will expire and cease to exist</td>\n",
    "        </tr>\n",
    "        <tr>\n",
    "            <td>Numerical</td>\n",
    "            <td><b>Days to Expire</b></td>\n",
    "            <td>The remaining time left until an options contract or futures contract expires</td>\n",
    "        </tr>\n",
    "        <tr>\n",
    "            <td>Numerical</td>\n",
    "            <td><b>Stock Price</b></td>\n",
    "            <td>The current market price of the underlying asset</td>\n",
    "        </tr>\n",
    "        <tr>\n",
    "            <td>Categorical</td>\n",
    "            <td><b>Option Ticker</b></td>\n",
    "            <td>A unique identifier assigned that corresponds to the underlying assets for the options</td>\n",
    "        </tr>\n",
    "    </tbody>\n",
    "</table>\n",
    "\n"
   ]
  },
  {
   "cell_type": "markdown",
   "id": "e1158f4d-d77c-4d6c-8c0a-1a6a55f2d7de",
   "metadata": {
    "execution": {
     "iopub.execute_input": "2024-06-04T16:50:51.968887Z",
     "iopub.status.busy": "2024-06-04T16:50:51.968232Z",
     "iopub.status.idle": "2024-06-04T16:50:51.975902Z",
     "shell.execute_reply": "2024-06-04T16:50:51.974132Z",
     "shell.execute_reply.started": "2024-06-04T16:50:51.968829Z"
    }
   },
   "source": [
    "## <span style=\"font-family:verdana; text-align: center;  color: #E57D00; font-weight: bold\">Methodology </span>"
   ]
  },
  {
   "cell_type": "markdown",
   "id": "fbae1b08-ea15-41ab-ae62-b32359f7a01b",
   "metadata": {},
   "source": [
    "Utilizing data from Yahoo finance, our team will apply Linear, Decision Tree, Random Forest, Gradient Boosting Method and Model Explainability using SHAP to help explain factors that influence options pricing."
   ]
  },
  {
   "cell_type": "markdown",
   "id": "96fa61b3-aa90-40d7-b17a-6be8f32c048e",
   "metadata": {
    "execution": {
     "iopub.execute_input": "2024-06-06T04:01:49.315313Z",
     "iopub.status.busy": "2024-06-06T04:01:49.313953Z",
     "iopub.status.idle": "2024-06-06T04:01:49.324042Z",
     "shell.execute_reply": "2024-06-06T04:01:49.322032Z",
     "shell.execute_reply.started": "2024-06-06T04:01:49.315246Z"
    }
   },
   "source": [
    "<center><img src=\"1_Methodology.png\" width='100%'/>"
   ]
  },
  {
   "cell_type": "markdown",
   "id": "7d7a2fab-60e3-447b-b307-7113a131a159",
   "metadata": {},
   "source": [
    "<span style = 'margin-right: 100px; line-height: 1.5'>\n",
    "\n",
    "<b> Data Collection </b>\n",
    "\n",
    "* The dataset was obtained by web scraping the data from Yahoo Finance. The top 20 tickers were used based on the volume of transactions as part of the study. The ranking is based on the weight of the market capitalization as compared to the overall market.\n",
    "\n",
    "<b> Data Cleaning and Pre-Processing  </b>\n",
    "* The team performed several data cleaning and preprocessing steps such as data type conversions and one-hot encoding for categorical columns. As part of the pre-processing, we filtered out transactions that are less than 10 to . \n",
    "    \n",
    "<b> Feature Engineering and Dimension Reduction </b>\n",
    "\n",
    "* <u>Feature Engineering:</u> It is the process of transforming raw data into features that better represent the underlying problem to the predictive models, resulting in improved model accuracy on unseen data. It involves selecting and creating new features from the existing data that are more informative for the machine learning algorithms to make accurate predictions. <br>\n",
    "    \n",
    " \n",
    "<b> Clustering </b>\n",
    "\n",
    "Employ clustering algorithms to segment the ore hauling activities into meaningful groups:\n",
    "\n",
    "* <u>Spectral CLustering:</u> Spectral clustering uses information from the eigenvalues (spectrum) of special matrices built from the graph or the data set.\n",
    "* <u>BiClustering:</u> Biclustering algorithms simultaneously cluster rows and columns of a data matrix.\n",
    "\n",
    "<b> Analysis and Interpretation of Clusters </b> <br>\n",
    "* <u>Cluster Profiling:</u> Examine the characteristics and key attributes of each cluster to understand the distinct segments within the ore hauling activities.\n",
    "* <u>Development of Targeted Strategies:</u> Formulate specific strategies for each identified strategy\n",
    " \n",
    "</span>"
   ]
  },
  {
   "cell_type": "code",
   "execution_count": null,
   "id": "4989c6b4-0e08-46f3-a2ca-8f22283127b9",
   "metadata": {},
   "outputs": [],
   "source": [
    "import os\n",
    "import json\n",
    "import warnings\n",
    "import matplotlib.pyplot as plt\n",
    "from itertools import zip_longest\n",
    "import seaborn as sns\n",
    "import pandas as pd\n",
    "\n",
    "warnings.filterwarnings(\"ignore\")"
   ]
  },
  {
   "cell_type": "code",
   "execution_count": null,
   "id": "e35edfae-909b-4792-804e-a10ab4517835",
   "metadata": {},
   "outputs": [],
   "source": [
    "# top 20+ tickers\n",
    "ticker_list = [\n",
    "    \"MSFT\", \"AAPL\", \"NVDA\", \"AMZN\", \"META\", \"GOOGL\", \"GOOG\", \"BRK.B\", \"LLY\", \"AVGO\", \"JPM\", \n",
    "    \"XOM\", \"TSLA\", \"UNH\", \"V\", \"PG\", \"MA\", \"COST\", \"JNJ\", \"HD\", \"MRK\",\n",
    "]\n",
    "df = combine_dfs(ticker_list, price_dict)\n",
    "df"
   ]
  },
  {
   "cell_type": "code",
   "execution_count": null,
   "id": "7606ea34-6bd0-4a09-b57e-b487c86fa892",
   "metadata": {},
   "outputs": [],
   "source": [
    "# save to json\n",
    "with open('price.json', 'w') as json_file:\n",
    "    json.dump(price_dict, json_file, indent=4)"
   ]
  },
  {
   "cell_type": "code",
   "execution_count": null,
   "id": "f63c484a-b1d6-4c09-90d5-55d8dd777780",
   "metadata": {},
   "outputs": [],
   "source": [
    "df.dtypes"
   ]
  },
  {
   "cell_type": "code",
   "execution_count": null,
   "id": "2004af13-9eaf-4e9b-9e8c-ce386cdab99c",
   "metadata": {},
   "outputs": [],
   "source": [
    "df['contractSize'].unique()"
   ]
  },
  {
   "cell_type": "code",
   "execution_count": null,
   "id": "175c96bc-2971-48c3-84b6-eaa47c9a9ad8",
   "metadata": {},
   "outputs": [],
   "source": [
    "df =  prepare_ml_dataset(df)\n",
    "df"
   ]
  },
  {
   "cell_type": "code",
   "execution_count": null,
   "id": "d351d7f8-7a5e-488d-9998-c783a4f317eb",
   "metadata": {},
   "outputs": [],
   "source": [
    "df.dtypes"
   ]
  },
  {
   "cell_type": "markdown",
   "id": "3af618f3-9801-47f8-95af-ccebab0ad161",
   "metadata": {},
   "source": [
    "## <span style=\"font-family:verdana; text-align: center;  color: #E57D00; font-weight: bold\">Exploratory Data Analysis </span>"
   ]
  },
  {
   "cell_type": "code",
   "execution_count": null,
   "id": "55676f7e-a3ea-44a6-8957-79dc1b1843e4",
   "metadata": {},
   "outputs": [],
   "source": [
    "# Histogram plot of features\n",
    "fig, axes = plt.subplots(4, 3, figsize=(20, 20), gridspec_kw={'hspace': 0.35})\n",
    "\n",
    "axes_flat = axes.flatten()\n",
    "\n",
    "for ax, col in zip_longest(axes_flat, df.iloc[:, :].columns):\n",
    "    if col != None:\n",
    "        ax.hist(df[col], bins=20, color='skyblue', edgecolor='black')\n",
    "        ax.set_title(f\"{col}\")\n",
    "        ax.set_xlabel('Range of Values')\n",
    "        ax.set_ylabel('Count')\n",
    "    else:\n",
    "        ax.axis(\"off\")\n",
    "\n",
    "plt.show()"
   ]
  },
  {
   "cell_type": "code",
   "execution_count": null,
   "id": "88cbb9ab-2803-4d0a-bf66-a0b238245278",
   "metadata": {},
   "outputs": [],
   "source": [
    "plt.figure(figsize = (11, 11))\n",
    "sns.heatmap(round(pd.DataFrame(df, columns=df.columns).corr(), 2), annot=True, cmap='coolwarm', vmin=-1, vmax=1)\n",
    "plt.show()"
   ]
  },
  {
   "cell_type": "code",
   "execution_count": null,
   "id": "59688bb7-dc02-483b-ad57-4dff70d69d18",
   "metadata": {},
   "outputs": [],
   "source": [
    "df.info()"
   ]
  },
  {
   "cell_type": "code",
   "execution_count": null,
   "id": "00115f08-0cd2-49e5-85c2-5230d0ab6f11",
   "metadata": {},
   "outputs": [],
   "source": [
    "# check if any of the column values is null\n",
    "df[df.isna().any(axis=1)]"
   ]
  },
  {
   "cell_type": "code",
   "execution_count": null,
   "id": "51464de4-d397-4875-b14c-ebbb235c5d75",
   "metadata": {},
   "outputs": [],
   "source": [
    "X_test, y_test, shap_values, X, shap_explainer, bm = train_model(df)"
   ]
  },
  {
   "cell_type": "code",
   "execution_count": null,
   "id": "c2cb2b4e-1885-4219-ab27-57406ab88671",
   "metadata": {},
   "outputs": [],
   "source": [
    "view_shap_value_for_instance(X_test, y_test, shap_values, X, shap_explainer, bm, 0)"
   ]
  },
  {
   "cell_type": "code",
   "execution_count": null,
   "id": "ea485f73-26b2-499e-8feb-aaf02c2f7188",
   "metadata": {},
   "outputs": [],
   "source": [
    "view_shap_value_for_instance(X_test, y_test, shap_values, X, shap_explainer, bm, 1)"
   ]
  },
  {
   "cell_type": "code",
   "execution_count": null,
   "id": "07da63cb-f58f-458a-92f9-7354291cdde1",
   "metadata": {},
   "outputs": [],
   "source": [
    "view_shap_value_for_instance(X_test, y_test, shap_values, X, shap_explainer, bm, 2)"
   ]
  },
  {
   "cell_type": "code",
   "execution_count": null,
   "id": "8759b630-19f1-420b-83b4-9ae978adc025",
   "metadata": {},
   "outputs": [],
   "source": []
  },
  {
   "cell_type": "markdown",
   "id": "713c4ada-09ff-4a75-b721-6f928163c0be",
   "metadata": {},
   "source": [
    "References:\n",
    "\n",
    "<sup>1</sup> How Options Are Priced. Investopedia Team. May 2024. https://www.investopedia.com/articles/optioninvestor/07/options_beat_market.asp\n",
    "\n",
    "<sup>2</sup> Black-Scholes Model: What It Is, How It Works, and Options Formula. Adam Hayes. June 2024. https://www.investopedia.com/terms/b/blackscholes.asp\n",
    "\n",
    "<sup>3</sup> The Trillion Dollar Equation. [Video] Available at: https://www.youtube.com/watch?v=A5w-dEgIU1M\n",
    "\n",
    "<sup>4</sup> 4 Advantages of Options. Ron Ianieri. December 2023. https://www.investopedia.com/articles/optioninvestor/06/options4advantages.asp"
   ]
  }
 ],
 "metadata": {
  "kernelspec": {
   "display_name": "Python 3 (ipykernel)",
   "language": "python",
   "name": "python3"
  },
  "language_info": {
   "codemirror_mode": {
    "name": "ipython",
    "version": 3
   },
   "file_extension": ".py",
   "mimetype": "text/x-python",
   "name": "python",
   "nbconvert_exporter": "python",
   "pygments_lexer": "ipython3",
   "version": "3.11.8"
  }
 },
 "nbformat": 4,
 "nbformat_minor": 5
}
